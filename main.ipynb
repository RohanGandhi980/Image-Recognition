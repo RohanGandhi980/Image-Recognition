{
 "cells": [
  {
   "cell_type": "code",
   "execution_count": 2,
   "id": "3a8038bf-f717-4e01-8685-31057af7fe33",
   "metadata": {},
   "outputs": [],
   "source": [
    "from keras.models import Sequential"
   ]
  },
  {
   "cell_type": "code",
   "execution_count": 4,
   "id": "429d4e53-cf85-4b37-b727-99f62449bccc",
   "metadata": {},
   "outputs": [],
   "source": [
    "from keras.layers import Conv2D\n",
    "from keras.layers import MaxPooling2D\n",
    "from keras.layers import Dense, Flatten"
   ]
  },
  {
   "cell_type": "code",
   "execution_count": 16,
   "id": "532c5f50-1dde-4f99-8926-d6d5a358214b",
   "metadata": {},
   "outputs": [],
   "source": [
    "#initialising the CNN\n",
    "classifier = Sequential()\n",
    "#adding the first layer\n",
    "#adding the first layer is most important because it determines the shape of the model\n",
    "classifier.add(Conv2D(32,(3,3), input_shape = (64,64,3), activation='relu'))\n",
    "#adding second convolutional layer \n",
    "classifier.add(Conv2D(32,(3,3), activation ='relu'))\n",
    "classifier.add(MaxPooling2D(pool_size=(2,2)))"
   ]
  },
  {
   "cell_type": "code",
   "execution_count": 20,
   "id": "2887d39a-3746-41d3-9897-d2e3e6a2cd4e",
   "metadata": {},
   "outputs": [],
   "source": [
    "#Flattening\n",
    "classifier.add(Flatten())\n",
    "\n",
    "#adding dense layers\n",
    "classifier.add(Dense(units = 128,activation='relu')) #since our shape is 64,64 hence the 128\n",
    "classifier.add(Dense(units = 1, activation = 'sigmoid')) #since this is used for determination purposes only 1 unit and sigmoid helps to\n",
    "                                                         #clasfify wether true or false"
   ]
  },
  {
   "cell_type": "code",
   "execution_count": 24,
   "id": "c9453fe0-9a33-4393-a988-3be97fa0150e",
   "metadata": {},
   "outputs": [],
   "source": [
    "#compiling the CNN\n",
    "classifier.compile(optimizer = 'adam', loss = 'binary_crossentropy',metrics =['accuracy'])"
   ]
  },
  {
   "cell_type": "code",
   "execution_count": 36,
   "id": "bc88fd60-9e15-40d6-a4dd-5c519734527d",
   "metadata": {},
   "outputs": [],
   "source": [
    "#fitting the CNN to images \n",
    "from tensorflow.keras.preprocessing.image import ImageDataGenerator\n",
    "\n",
    "training_datagen = ImageDataGenerator(rescale = 1./255,\n",
    "                                      shear_range= 0.2,\n",
    "                                      zoom_range = 0.2,\n",
    "                                      horizontal_flip = True)"
   ]
  },
  {
   "cell_type": "code",
   "execution_count": 49,
   "id": "ab1986da-eb4e-44e2-8866-a4736a14c6b0",
   "metadata": {},
   "outputs": [
    {
     "name": "stdout",
     "output_type": "stream",
     "text": [
      "Found 8000 images belonging to 2 classes.\n"
     ]
    }
   ],
   "source": [
    "training_set = training_datagen.flow_from_directory('training_set',\n",
    "                                                 target_size=(64,64),\n",
    "                                                 batch_size=32,\n",
    "                                                 class_mode = 'binary')\n",
    "                                                 "
   ]
  },
  {
   "cell_type": "code",
   "execution_count": 57,
   "id": "fae82581-0c7b-4c72-98f5-e068a86e68b8",
   "metadata": {},
   "outputs": [
    {
     "name": "stdout",
     "output_type": "stream",
     "text": [
      "Found 2000 images belonging to 2 classes.\n"
     ]
    }
   ],
   "source": [
    "test_datagen = ImageDataGenerator(rescale = 1./255)\n",
    "test_set = training_datagen.flow_from_directory('test_set',\n",
    "                                                 target_size=(64,64),\n",
    "                                                 batch_size=32,\n",
    "                                                 class_mode = 'binary')"
   ]
  },
  {
   "cell_type": "code",
   "execution_count": 61,
   "id": "c20a117e-848f-4177-8dc3-9acecd088267",
   "metadata": {},
   "outputs": [
    {
     "name": "stderr",
     "output_type": "stream",
     "text": [
      "/opt/anaconda3/lib/python3.12/site-packages/keras/src/trainers/data_adapters/py_dataset_adapter.py:121: UserWarning: Your `PyDataset` class should call `super().__init__(**kwargs)` in its constructor. `**kwargs` can include `workers`, `use_multiprocessing`, `max_queue_size`. Do not pass these arguments to `fit()`, as they will be ignored.\n",
      "  self._warn_if_super_not_called()\n"
     ]
    },
    {
     "name": "stdout",
     "output_type": "stream",
     "text": [
      "\u001b[1m 250/8000\u001b[0m \u001b[37m━━━━━━━━━━━━━━━━━━━━\u001b[0m \u001b[1m6:51\u001b[0m 53ms/step - accuracy: 0.5517 - loss: 0.7223"
     ]
    },
    {
     "name": "stderr",
     "output_type": "stream",
     "text": [
      "/opt/anaconda3/lib/python3.12/site-packages/keras/src/trainers/epoch_iterator.py:107: UserWarning: Your input ran out of data; interrupting training. Make sure that your dataset or generator can generate at least `steps_per_epoch * epochs` batches. You may need to use the `.repeat()` function when building your dataset.\n",
      "  self._interrupted_warning()\n"
     ]
    },
    {
     "name": "stdout",
     "output_type": "stream",
     "text": [
      "\u001b[1m8000/8000\u001b[0m \u001b[32m━━━━━━━━━━━━━━━━━━━━\u001b[0m\u001b[37m\u001b[0m \u001b[1m17s\u001b[0m 2ms/step - accuracy: 0.5836 - loss: 0.6867 - val_accuracy: 0.6435 - val_loss: 0.6643\n"
     ]
    },
    {
     "data": {
      "text/plain": [
       "<keras.src.callbacks.history.History at 0x3083ef2f0>"
      ]
     },
     "execution_count": 61,
     "metadata": {},
     "output_type": "execute_result"
    }
   ],
   "source": [
    "classifier.fit(training_set,\n",
    "               steps_per_epoch=8000,\n",
    "               validation_data=test_set,  \n",
    "               validation_steps=2000)\n"
   ]
  },
  {
   "cell_type": "code",
   "execution_count": 71,
   "id": "1a699b34-f41c-4a1d-900c-5aae3810531a",
   "metadata": {},
   "outputs": [
    {
     "name": "stdout",
     "output_type": "stream",
     "text": [
      "\u001b[1m1/1\u001b[0m \u001b[32m━━━━━━━━━━━━━━━━━━━━\u001b[0m\u001b[37m\u001b[0m \u001b[1m0s\u001b[0m 17ms/step\n",
      "dog\n"
     ]
    }
   ],
   "source": [
    "import numpy as np \n",
    "from keras.preprocessing import image\n",
    "\n",
    "test_image = image.load_img('single_prediction/cat_or_dog_1.jpg',target_size=(64,64))\n",
    "test_image = image.img_to_array(test_image)\n",
    "test_image = np.expand_dims(test_image,axis=0)\n",
    "\n",
    "result = classifier.predict(test_image)\n",
    "training_set.class_indices\n",
    "if result[0][0] == 1:\n",
    "    prediction = 'dog'\n",
    "else:\n",
    "    prediction = 'cat'\n",
    "\n",
    "print(prediction)"
   ]
  },
  {
   "cell_type": "code",
   "execution_count": null,
   "id": "4e35bcdc-78fd-4eb9-9567-1b886d75459a",
   "metadata": {},
   "outputs": [],
   "source": []
  }
 ],
 "metadata": {
  "kernelspec": {
   "display_name": "Python [conda env:base] *",
   "language": "python",
   "name": "conda-base-py"
  },
  "language_info": {
   "codemirror_mode": {
    "name": "ipython",
    "version": 3
   },
   "file_extension": ".py",
   "mimetype": "text/x-python",
   "name": "python",
   "nbconvert_exporter": "python",
   "pygments_lexer": "ipython3",
   "version": "3.12.7"
  }
 },
 "nbformat": 4,
 "nbformat_minor": 5
}
